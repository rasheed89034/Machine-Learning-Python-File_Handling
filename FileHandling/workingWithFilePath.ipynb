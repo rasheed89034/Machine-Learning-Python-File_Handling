{
 "cells": [
  {
   "cell_type": "code",
   "execution_count": 2,
   "metadata": {},
   "outputs": [
    {
     "name": "stdout",
     "output_type": "stream",
     "text": [
      "Cureent locartion is :  /Users/interlink/Desktop/ML_PYTHON_01/FileHandling\n"
     ]
    }
   ],
   "source": [
    "import os\n",
    "cwd = os.getcwd()\n",
    "print(\"Cureent locartion is : \",cwd)"
   ]
  },
  {
   "cell_type": "code",
   "execution_count": 3,
   "metadata": {},
   "outputs": [
    {
     "name": "stdout",
     "output_type": "stream",
     "text": [
      "Created successdully :  packages\n"
     ]
    }
   ],
   "source": [
    "new_directory = \"packages\"\n",
    "os.mkdir(new_directory)\n",
    "print(\"Created successdully : \",new_directory)"
   ]
  },
  {
   "cell_type": "code",
   "execution_count": 4,
   "metadata": {},
   "outputs": [
    {
     "name": "stdout",
     "output_type": "stream",
     "text": [
      "['fileOperation.ipynb', 'destination.txt', 'workingWithFilePath.ipynb', 'exmp.txt', 'packages', 'readAndwrite.txt', 'example.bin', 'example.txt']\n"
     ]
    }
   ],
   "source": [
    "## Listing Files and Directories\n",
    "items = os.listdir(\".\")\n",
    "print(items)"
   ]
  },
  {
   "cell_type": "code",
   "execution_count": 2,
   "metadata": {},
   "outputs": [
    {
     "name": "stdout",
     "output_type": "stream",
     "text": [
      "New_folder/New_file\n"
     ]
    }
   ],
   "source": [
    "## Joining Path\n",
    "import os\n",
    "dir_name = \"New_folder\"\n",
    "file_name = \"New_file\"\n",
    "full_path = os.path.join(dir_name,file_name)\n",
    "print(full_path)"
   ]
  },
  {
   "cell_type": "code",
   "execution_count": 3,
   "metadata": {},
   "outputs": [
    {
     "name": "stdout",
     "output_type": "stream",
     "text": [
      "/Users/interlink/Desktop/ML_PYTHON_01/FileHandling/New_folder/New_file\n"
     ]
    }
   ],
   "source": [
    "dir_name = \"New_folder\"\n",
    "file_name = \"New_file\"\n",
    "full_path = os.path.join(os.getcwd(),dir_name,file_name)\n",
    "print(full_path)"
   ]
  },
  {
   "cell_type": "code",
   "execution_count": null,
   "metadata": {},
   "outputs": [],
   "source": []
  },
  {
   "cell_type": "code",
   "execution_count": 4,
   "metadata": {},
   "outputs": [
    {
     "name": "stdout",
     "output_type": "stream",
     "text": [
      "path does not exisit exap.txt\n"
     ]
    }
   ],
   "source": [
    "path = 'exap.txt'\n",
    "if os.path.exists(path):\n",
    "    print(f\"This path is already exisit '{path}'\")\n",
    "else:\n",
    "    print(f\"path does not exisit {path}\")"
   ]
  },
  {
   "cell_type": "markdown",
   "metadata": {},
   "source": [
    "## Checking if a path is file or directory?\n"
   ]
  },
  {
   "cell_type": "code",
   "execution_count": 5,
   "metadata": {},
   "outputs": [
    {
     "name": "stdout",
     "output_type": "stream",
     "text": [
      "This is a file :  example.txt\n"
     ]
    }
   ],
   "source": [
    "import os \n",
    "path = \"example.txt\"\n",
    "if os.path.isfile(path):\n",
    "    print(\"This is a file : \",path)\n",
    "elif os.path.isdir(path):\n",
    "    print(\"This is a directory : \",path)\n",
    "else:\n",
    "    print(\"This is not a file neither a directory : \",path)"
   ]
  },
  {
   "cell_type": "markdown",
   "metadata": {},
   "source": [
    "## Getting Absolute Path"
   ]
  },
  {
   "cell_type": "code",
   "execution_count": 6,
   "metadata": {},
   "outputs": [
    {
     "name": "stdout",
     "output_type": "stream",
     "text": [
      "/Users/interlink/Desktop/ML_PYTHON_01/FileHandling/destination.txt\n"
     ]
    }
   ],
   "source": [
    "relativePath = \"destination.txt\"\n",
    "absoluatePath = os.path.abspath(relativePath)\n",
    "print(absoluatePath)"
   ]
  }
 ],
 "metadata": {
  "kernelspec": {
   "display_name": "Python 3",
   "language": "python",
   "name": "python3"
  },
  "language_info": {
   "codemirror_mode": {
    "name": "ipython",
    "version": 3
   },
   "file_extension": ".py",
   "mimetype": "text/x-python",
   "name": "python",
   "nbconvert_exporter": "python",
   "pygments_lexer": "ipython3",
   "version": "3.12.0"
  }
 },
 "nbformat": 4,
 "nbformat_minor": 2
}
