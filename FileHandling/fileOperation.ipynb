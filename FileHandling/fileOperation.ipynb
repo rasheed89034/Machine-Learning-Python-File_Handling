{
 "cells": [
  {
   "cell_type": "markdown",
   "metadata": {},
   "source": [
    "## File Operation\n",
    "##### We will perform various file operations using Python, working with both text and binary files. We will learn how to create files, write to them, read their content, and more.\n",
    "\n"
   ]
  },
  {
   "cell_type": "code",
   "execution_count": 3,
   "metadata": {},
   "outputs": [
    {
     "name": "stdout",
     "output_type": "stream",
     "text": [
      "Hello how are you?\n",
      "I am good\n",
      "welcome to the course.\n"
     ]
    }
   ],
   "source": [
    "with open('exmp.txt', 'r') as file:\n",
    "    content = file.read()\n",
    "    print(content)"
   ]
  },
  {
   "cell_type": "code",
   "execution_count": null,
   "metadata": {},
   "outputs": [
    {
     "name": "stdout",
     "output_type": "stream",
     "text": [
      "Hello how are you?\n",
      "I am good\n",
      "welcome to the course.\n"
     ]
    }
   ],
   "source": [
    "with open('exmp.txt' , 'r') as file:\n",
    "    for line in file:\n",
    "      ## print(line)\n",
    "      print(line.strip()) ## .strip is use for removing new line character."
   ]
  },
  {
   "cell_type": "markdown",
   "metadata": {},
   "source": [
    "## Creating and Writing to a File"
   ]
  },
  {
   "cell_type": "code",
   "execution_count": 12,
   "metadata": {},
   "outputs": [],
   "source": [
    "with open(\"example.txt\" , \"w\") as file:\n",
    "    file.write(\"Hello, How are you?\\n\")\n",
    "    file.write(\"I am fine\\n\")\n",
    "    file.write(\"Sounds Great\\n\")"
   ]
  },
  {
   "cell_type": "code",
   "execution_count": 13,
   "metadata": {},
   "outputs": [
    {
     "name": "stdout",
     "output_type": "stream",
     "text": [
      "Hello, How are you?\n",
      "\n",
      "I am fine\n",
      "\n",
      "Sounds Great\n",
      "\n"
     ]
    }
   ],
   "source": [
    "with open('example.txt', 'r') as file:\n",
    "    for line in file:\n",
    "        print(line)"
   ]
  },
  {
   "cell_type": "code",
   "execution_count": 14,
   "metadata": {},
   "outputs": [
    {
     "name": "stdout",
     "output_type": "stream",
     "text": [
      "Hello, How are you?\n",
      "I am fine\n",
      "Sounds Great\n"
     ]
    }
   ],
   "source": [
    "with open('example.txt', 'r') as file:\n",
    "    for line in file:\n",
    "        print(line.strip()) ## remove new line character by .strip() function "
   ]
  },
  {
   "cell_type": "markdown",
   "metadata": {},
   "source": [
    "## Writing to a File and Overwriting"
   ]
  },
  {
   "cell_type": "code",
   "execution_count": 21,
   "metadata": {},
   "outputs": [],
   "source": [
    "## In overwriting the whole previous data will remove and new data will insert \n",
    "with open(\"example.txt\" , 'w') as file:\n",
    "    file.write(\"What are you doing today?\\n\")\n",
    "    file.write(\"I am feeling welling.\")"
   ]
  },
  {
   "cell_type": "markdown",
   "metadata": {},
   "source": [
    "## Appending to a File"
   ]
  },
  {
   "cell_type": "code",
   "execution_count": 37,
   "metadata": {},
   "outputs": [],
   "source": [
    "## To add content to the end of a file without overwriting, use append mode ('a').\n",
    "with open(\"example.txt\", \"a\") as file:\n",
    "    file.write(\"\\nAll right\\nWelcome to the course\")"
   ]
  },
  {
   "cell_type": "markdown",
   "metadata": {},
   "source": [
    "## Writing Multiple Lines to a File"
   ]
  },
  {
   "cell_type": "code",
   "execution_count": 43,
   "metadata": {},
   "outputs": [],
   "source": [
    "lines = ['First Line\\n','Second Line\\n','Thrid Line\\n']\n",
    "with open('example.txt', 'a') as file:\n",
    "    file.writelines(lines)"
   ]
  },
  {
   "cell_type": "markdown",
   "metadata": {},
   "source": [
    "## Working with Binary Files"
   ]
  },
  {
   "cell_type": "code",
   "execution_count": 39,
   "metadata": {},
   "outputs": [],
   "source": [
    "## Binary files, such as those with a .bin extension, are handled using binary modes. \n",
    "# To write to a binary file, use 'wb' mode. To read from a binary file, use 'rb' mode.\n",
    "\n",
    "with open(\"example.bin\" , 'wb') as file:\n",
    "    file.write(b'O hey welcome to Binary File')"
   ]
  },
  {
   "cell_type": "code",
   "execution_count": 40,
   "metadata": {},
   "outputs": [
    {
     "name": "stdout",
     "output_type": "stream",
     "text": [
      "b'O hey welcome to Binary File'\n"
     ]
    }
   ],
   "source": [
    "## Now let's read binary file \n",
    "with open('example.bin' , 'rb') as file:\n",
    "    content = file.read()\n",
    "    print(content)"
   ]
  },
  {
   "cell_type": "markdown",
   "metadata": {},
   "source": [
    "## Copying Content from One File to Another"
   ]
  },
  {
   "cell_type": "code",
   "execution_count": 42,
   "metadata": {},
   "outputs": [],
   "source": [
    "## Read from on file and send it to the distination file \n",
    "with open('example.txt' , 'r') as mainFile:\n",
    "    content = mainFile.read()\n",
    "\n",
    "with open('destination.txt', 'w') as destinationFile:\n",
    "    destinationFile.write(content)\n"
   ]
  },
  {
   "cell_type": "code",
   "execution_count": 50,
   "metadata": {},
   "outputs": [
    {
     "name": "stdout",
     "output_type": "stream",
     "text": [
      "Number of lines are :  23 \n",
      "Number of words are :  394 \n",
      "Number of Character are :  417\n"
     ]
    }
   ],
   "source": [
    "## Counting Lines, Words, and Characters in a File\n",
    "\n",
    "def countEverything(fileName):\n",
    "    with open(fileName , 'r') as file:\n",
    "        lines = file.readlines()\n",
    "        num_lines = len(lines)\n",
    "        num_words = sum(len(line.strip()) for line in lines)\n",
    "        num_character = sum(len(line) for line in lines)\n",
    "\n",
    "    print(\"Number of lines are : \",num_lines,\"\\nNumber of words are : \" ,num_words ,\"\\nNumber of Character are : \",num_character)\n",
    "\n",
    "\n",
    "filePath = \"destination.txt\"\n",
    "countEverything(filePath)\n"
   ]
  },
  {
   "cell_type": "markdown",
   "metadata": {},
   "source": [
    "## Reading and Writing in the Same File Session "
   ]
  },
  {
   "cell_type": "code",
   "execution_count": 52,
   "metadata": {},
   "outputs": [
    {
     "name": "stdout",
     "output_type": "stream",
     "text": [
      "Hello, How are you\n",
      "This is file is about reading and writing\n"
     ]
    }
   ],
   "source": [
    "## \"w+\" is use for reading and writing in the smae file session\n",
    "\n",
    "with open(\"readAndwrite.txt\" , 'w+') as file:\n",
    "    file.write(\"Hello, How are you\\n\")\n",
    "    file.write(\"This is file is about reading and writing\")\n",
    "    file.seek(0) ## .seek() function is use for to move your corsur to the starting point\n",
    "    contentInFile = file.read()\n",
    "    print(contentInFile)\n"
   ]
  }
 ],
 "metadata": {
  "kernelspec": {
   "display_name": "Python 3",
   "language": "python",
   "name": "python3"
  },
  "language_info": {
   "codemirror_mode": {
    "name": "ipython",
    "version": 3
   },
   "file_extension": ".py",
   "mimetype": "text/x-python",
   "name": "python",
   "nbconvert_exporter": "python",
   "pygments_lexer": "ipython3",
   "version": "3.12.0"
  }
 },
 "nbformat": 4,
 "nbformat_minor": 2
}
